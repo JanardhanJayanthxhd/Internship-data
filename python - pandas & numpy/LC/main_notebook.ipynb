{
 "cells": [
  {
   "cell_type": "code",
   "execution_count": 2,
   "id": "dab557a7",
   "metadata": {},
   "outputs": [],
   "source": [
    "import pandas as pd \n",
    "import numpy as np"
   ]
  },
  {
   "cell_type": "code",
   "execution_count": null,
   "id": "a9c3a918",
   "metadata": {},
   "outputs": [
    {
     "name": "stdout",
     "output_type": "stream",
     "text": [
      "merged_df \n",
      "    id_emp name_emp  salary  departmentId  id_dept name_dept\n",
      "0       1      Joe   70000             1        1        IT\n",
      "1       2      Jim   90000             1        1        IT\n",
      "2       3    Henry   80000             2        2     Sales\n",
      "3       4      Sam   60000             2        2     Sales\n",
      "4       5      Max   90000             1        1        IT\n",
      "0    90000\n",
      "1    90000\n",
      "2    80000\n",
      "3    80000\n",
      "4    90000\n",
      "Name: salary, dtype: int64\n",
      "   id_emp name_emp  salary  departmentId  id_dept name_dept\n",
      "1       2      Jim   90000             1        1        IT\n",
      "2       3    Henry   80000             2        2     Sales\n",
      "4       5      Max   90000             1        1        IT\n",
      "  Departmen Employee  Salary\n",
      "1        IT      Jim   90000\n",
      "2     Sales    Henry   80000\n",
      "4        IT      Max   90000\n"
     ]
    }
   ],
   "source": [
    "# LC 184 \n",
    "\n",
    "\"\"\"\n",
    "Employee table:\n",
    "+----+-------+--------+--------------+\n",
    "| id | name  | salary | departmentId |\n",
    "+----+-------+--------+--------------+\n",
    "| 1  | Joe   | 70000  | 1            |\n",
    "| 2  | Jim   | 90000  | 1            |\n",
    "| 3  | Henry | 80000  | 2            |\n",
    "| 4  | Sam   | 60000  | 2            |\n",
    "| 5  | Max   | 90000  | 1            |\n",
    "+----+-------+--------+--------------+\n",
    "Department table:\n",
    "+----+-------+\n",
    "| id | name  |\n",
    "+----+-------+\n",
    "| 1  | IT    |\n",
    "| 2  | Sales |\n",
    "+----+-------+\n",
    "\n",
    "\n",
    "T-SQL :\n",
    "WITH max_sal_cte AS (\n",
    "    SELECT \n",
    "        e.name AS Employee,\n",
    "        salary AS Salary, \n",
    "        d.name AS Department,\n",
    "        ROW_NUMBER() OVER(PARTITION BY departmentId ORDER BY salary DESC) AS rn\n",
    "    FROM Employee AS e\n",
    "    INNER JOIN Department AS d       # left also works\n",
    "    ON e.departmentId = d.id\n",
    ")\n",
    "SELECT Employee, Salary, Department \n",
    "FROM max_sal_cte\n",
    "WHERE rn = 1;\n",
    "\"\"\"\n",
    "\n",
    "\n",
    "employee_data = {\n",
    "    'id': [1, 2, 3, 4, 5],\n",
    "    'name': ['Joe', 'Jim', 'Henry', 'Sam', 'Max'],\n",
    "    'salary': [70000, 90000, 80000, 60000, 90000],\n",
    "    'departmentId': [1, 1, 2, 2, 1]\n",
    "}\n",
    "\n",
    "department_data = {\n",
    "    'id': [1, 2],\n",
    "    'name': ['IT', 'Sales']\n",
    "}\n",
    "\n",
    "employee_df = pd.DataFrame(employee_data)\n",
    "department_df = pd.DataFrame(department_data)\n",
    "\n",
    "\n",
    "def department_highest_salary(employee: pd.DataFrame, department: pd.DataFrame) -> pd.DataFrame:\n",
    "    merged_df = employee.merge(department, left_on='departmentId', right_on='id', how='inner', suffixes=['_emp', '_dept'])\n",
    "    print('merged_df \\n', merged_df)\n",
    "    max_salaries = merged_df.groupby('name_dept')['salary'].transform('max')\n",
    "    print(max_salaries)\n",
    "    result_df = merged_df[merged_df['salary'] == max_salaries]\n",
    "    print(result_df)\n",
    "    final_df = result_df[['name_dept', 'name_emp', 'salary']]\n",
    "    final_df.columns = ['Departmen', 'Employee', 'Salary']\n",
    "    \n",
    "    return final_df\n",
    "\n",
    "\n",
    "print(department_highest_salary(employee_df, department_df))"
   ]
  },
  {
   "cell_type": "code",
   "execution_count": null,
   "id": "28f8b17e",
   "metadata": {},
   "outputs": [
    {
     "name": "stdout",
     "output_type": "stream",
     "text": [
      "200\n"
     ]
    },
    {
     "data": {
      "text/plain": [
       "200"
      ]
     },
     "execution_count": 27,
     "metadata": {},
     "output_type": "execute_result"
    }
   ],
   "source": [
    "# LC 117 - https://leetcode.com/problems/nth-highest-salary/description/\n",
    "\n",
    "\"\"\"\n",
    "T SQL\n",
    "\n",
    "CREATE FUNCTION dbo.getNthHighestSalary (@N INT)\n",
    "RETURNS INT\n",
    "AS\n",
    "BEGIN\n",
    "    -- Return NULL if N is invalid\n",
    "    IF @N < 1\n",
    "        RETURN NULL;\n",
    "\n",
    "    RETURN (\n",
    "        SELECT DISTINCT(salary)\n",
    "        FROM Employee\n",
    "        ORDER BY salary DESC\n",
    "        OFFSET (@N - 1) ROWS FETCH NEXT 1 ROWS ONLY\n",
    "    );\n",
    "END;\n",
    "\"\"\"\n",
    "\n",
    "\n",
    "data = [[1, 100], [2, 200], [3, 300]]\n",
    "employee_df = pd.DataFrame(data, columns=['Id', 'Salary']).astype({'Id':'Int64', 'Salary':'Int64'})\n",
    "\n",
    "def nth_highest_salary(employee: pd.DataFrame, n: int) -> pd.DataFrame:\n",
    "    sorted_salary = employee['salary'].sort_values(ascending=False)\n",
    "    unique_values = sorted_salary.unique()\n",
    "    \n",
    "    col_name = f'getNthHighestSalary({n})'\n",
    "    \n",
    "    if n < 1 or n > len(unique_values):\n",
    "        return pd.DataFrame({col_name: [None]})\n",
    "    else:\n",
    "        nth_val = int(unique_values[n - 1])\n",
    "        return pd.DataFrame({col_name: [nth_val]})\n",
    "\n",
    "\n",
    "nth_highest_salary(employee_df, 2)"
   ]
  },
  {
   "cell_type": "code",
   "execution_count": null,
   "id": "88d4a84c",
   "metadata": {},
   "outputs": [],
   "source": []
  }
 ],
 "metadata": {
  "kernelspec": {
   "display_name": "py (env)",
   "language": "python",
   "name": "env"
  },
  "language_info": {
   "codemirror_mode": {
    "name": "ipython",
    "version": 3
   },
   "file_extension": ".py",
   "mimetype": "text/x-python",
   "name": "python",
   "nbconvert_exporter": "python",
   "pygments_lexer": "ipython3",
   "version": "3.12.7"
  }
 },
 "nbformat": 4,
 "nbformat_minor": 5
}
