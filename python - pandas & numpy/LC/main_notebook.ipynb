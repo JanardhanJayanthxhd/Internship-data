{
 "cells": [
  {
   "cell_type": "code",
   "execution_count": 1,
   "id": "dab557a7",
   "metadata": {},
   "outputs": [],
   "source": [
    "import pandas as pd \n",
    "import numpy as np"
   ]
  },
  {
   "cell_type": "code",
   "execution_count": 2,
   "id": "78fa09ba",
   "metadata": {},
   "outputs": [
    {
     "name": "stdout",
     "output_type": "stream",
     "text": [
      "jello 2.2.2\n"
     ]
    }
   ],
   "source": [
    "# testing\n",
    "print(f'jello {pd.__version__}')"
   ]
  },
  {
   "cell_type": "code",
   "execution_count": null,
   "id": "a9c3a918",
   "metadata": {},
   "outputs": [
    {
     "name": "stdout",
     "output_type": "stream",
     "text": [
      "merged_df \n",
      "    id_emp name_emp  salary  departmentId  id_dept name_dept\n",
      "0       1      Joe   70000             1        1        IT\n",
      "1       2      Jim   90000             1        1        IT\n",
      "2       3    Henry   80000             2        2     Sales\n",
      "3       4      Sam   60000             2        2     Sales\n",
      "4       5      Max   90000             1        1        IT\n",
      "0    90000\n",
      "1    90000\n",
      "2    80000\n",
      "3    80000\n",
      "4    90000\n",
      "Name: salary, dtype: int64\n",
      "   id_emp name_emp  salary  departmentId  id_dept name_dept\n",
      "1       2      Jim   90000             1        1        IT\n",
      "2       3    Henry   80000             2        2     Sales\n",
      "4       5      Max   90000             1        1        IT\n",
      "  Departmen Employee  Salary\n",
      "1        IT      Jim   90000\n",
      "2     Sales    Henry   80000\n",
      "4        IT      Max   90000\n"
     ]
    }
   ],
   "source": [
    "# LC 184 - https://leetcode.com/problems/department-highest-salary/description/\n",
    "\n",
    "\"\"\"\n",
    "Employee table:\n",
    "+----+-------+--------+--------------+\n",
    "| id | name  | salary | departmentId |\n",
    "+----+-------+--------+--------------+\n",
    "| 1  | Joe   | 70000  | 1            |\n",
    "| 2  | Jim   | 90000  | 1            |\n",
    "| 3  | Henry | 80000  | 2            |\n",
    "| 4  | Sam   | 60000  | 2            |\n",
    "| 5  | Max   | 90000  | 1            |\n",
    "+----+-------+--------+--------------+\n",
    "Department table:\n",
    "+----+-------+\n",
    "| id | name  |\n",
    "+----+-------+\n",
    "| 1  | IT    |\n",
    "| 2  | Sales |\n",
    "+----+-------+\n",
    "\n",
    "\n",
    "T-SQL :\n",
    "WITH max_sal_cte AS (\n",
    "    SELECT \n",
    "        e.name AS Employee,\n",
    "        salary AS Salary, \n",
    "        d.name AS Department,\n",
    "        ROW_NUMBER() OVER(PARTITION BY departmentId ORDER BY salary DESC) AS rn\n",
    "    FROM Employee AS e\n",
    "    INNER JOIN Department AS d       # left also works\n",
    "    ON e.departmentId = d.id\n",
    ")\n",
    "SELECT Employee, Salary, Department \n",
    "FROM max_sal_cte\n",
    "WHERE rn = 1;\n",
    "\"\"\"\n",
    "\n",
    "\n",
    "employee_data = {\n",
    "    'id': [1, 2, 3, 4, 5],\n",
    "    'name': ['Joe', 'Jim', 'Henry', 'Sam', 'Max'],\n",
    "    'salary': [70000, 90000, 80000, 60000, 90000],\n",
    "    'departmentId': [1, 1, 2, 2, 1]\n",
    "}\n",
    "\n",
    "department_data = {\n",
    "    'id': [1, 2],\n",
    "    'name': ['IT', 'Sales']\n",
    "}\n",
    "\n",
    "employee_df = pd.DataFrame(employee_data)\n",
    "department_df = pd.DataFrame(department_data)\n",
    "\n",
    "\n",
    "def department_highest_salary(employee: pd.DataFrame, department: pd.DataFrame) -> pd.DataFrame:\n",
    "    merged_df = employee.merge(department, left_on='departmentId', right_on='id', how='inner', suffixes=['_emp', '_dept'])\n",
    "    print('merged_df \\n', merged_df)\n",
    "    max_salaries = merged_df.groupby('name_dept')['salary'].transform('max')\n",
    "    print(max_salaries)\n",
    "    result_df = merged_df[merged_df['salary'] == max_salaries]\n",
    "    print(result_df)\n",
    "    final_df = result_df[['name_dept', 'name_emp', 'salary']]\n",
    "    final_df.columns = ['Departmen', 'Employee', 'Salary']\n",
    "    \n",
    "    return final_df\n",
    "\n",
    "\n",
    "print(department_highest_salary(employee_df, department_df))"
   ]
  },
  {
   "cell_type": "code",
   "execution_count": null,
   "id": "28f8b17e",
   "metadata": {},
   "outputs": [
    {
     "name": "stdout",
     "output_type": "stream",
     "text": [
      "200\n"
     ]
    },
    {
     "data": {
      "text/plain": [
       "200"
      ]
     },
     "execution_count": 27,
     "metadata": {},
     "output_type": "execute_result"
    }
   ],
   "source": [
    "# LC 117 - https://leetcode.com/problems/nth-highest-salary/description/\n",
    "\n",
    "\"\"\"\n",
    "T SQL\n",
    "\n",
    "CREATE FUNCTION dbo.getNthHighestSalary (@N INT)\n",
    "RETURNS INT\n",
    "AS\n",
    "BEGIN\n",
    "    -- Return NULL if N is invalid\n",
    "    IF @N < 1\n",
    "        RETURN NULL;\n",
    "\n",
    "    RETURN (\n",
    "        SELECT DISTINCT(salary)\n",
    "        FROM Employee\n",
    "        ORDER BY salary DESC\n",
    "        OFFSET (@N - 1) ROWS FETCH NEXT 1 ROWS ONLY\n",
    "    );\n",
    "END;\n",
    "\"\"\"\n",
    "\n",
    "\n",
    "data = [[1, 100], [2, 200], [3, 300]]\n",
    "employee_df = pd.DataFrame(data, columns=['Id', 'Salary']).astype({'Id':'Int64', 'Salary':'Int64'})\n",
    "\n",
    "def nth_highest_salary(employee: pd.DataFrame, n: int) -> pd.DataFrame:\n",
    "    sorted_salary = employee['salary'].sort_values(ascending=False)\n",
    "    unique_values = sorted_salary.unique()\n",
    "    \n",
    "    col_name = f'getNthHighestSalary({n})'\n",
    "    \n",
    "    if n < 1 or n > len(unique_values):\n",
    "        return pd.DataFrame({col_name: [None]})\n",
    "    else:\n",
    "        nth_val = int(unique_values[n - 1])\n",
    "        return pd.DataFrame({col_name: [nth_val]})\n",
    "\n",
    "\n",
    "nth_highest_salary(employee_df, 2)"
   ]
  },
  {
   "cell_type": "code",
   "execution_count": 13,
   "id": "88d4a84c",
   "metadata": {},
   "outputs": [
    {
     "name": "stdout",
     "output_type": "stream",
     "text": [
      "   name\n",
      "0  John\n"
     ]
    }
   ],
   "source": [
    "# LC 570 - https://leetcode.com/problems/managers-with-at-least-5-direct-reports/description/\n",
    "\n",
    "\n",
    "\"\"\"\n",
    "TSQL\n",
    "Q1\n",
    "-- select m.name\n",
    "-- from employee m\n",
    "-- join employee e\n",
    "-- on m.id = e.managerId\n",
    "-- group by m.id, m.name\n",
    "-- having count(e.managerId) >= 5;\n",
    "\n",
    "Q2\n",
    "select m.name as name\n",
    "from employee m\n",
    "join (\n",
    "    select managerId \n",
    "    from employee \n",
    "    group by managerId\n",
    "    having count(managerId) >= 5\n",
    ") as e\n",
    "on m.id = e.managerId\n",
    "\n",
    "here, Q2 is faster because it filters the managerId first\n",
    "and then joins. this gives improved performance on large table \n",
    "\"\"\"\n",
    "\n",
    "\n",
    "data = [[101, 'John', 'A', None], [102, 'Dan', 'A', 101], [103, 'James', 'A', 101], [104, 'Amy', 'A', 101], [105, 'Anne', 'A', 101], [106, 'Ron', 'B', 101]]\n",
    "emp_df = pd.DataFrame(data, columns=['id', 'name', 'department', 'managerId']).astype({'id':'Int64', 'name':'object', 'department':'object', 'managerId':'Int64'})\n",
    "\n",
    "def find_managers(employee: pd.DataFrame) -> pd.DataFrame:\n",
    "    df = employee.groupby('managerId')['id'].count().reset_index().rename(columns={'id': 'count'})\n",
    "    five_reports = df[df['count'] >= 5]['managerId'].values\n",
    "    return employee[employee['id'].isin(five_reports)][['name']]\n",
    "\n",
    "print(find_managers(emp_df))"
   ]
  },
  {
   "cell_type": "code",
   "execution_count": null,
   "id": "a18b0c51",
   "metadata": {},
   "outputs": [
    {
     "name": "stdout",
     "output_type": "stream",
     "text": [
      "   user_id        time_stamp_x        time_stamp_y     action  action_code\n",
      "0        3 2020-03-21 10:16:13 2021-01-06 03:30:46    timeout          0.0\n",
      "1        3 2020-03-21 10:16:13 2021-07-14 14:00:00    timeout          0.0\n",
      "2        7 2020-01-04 13:57:59 2021-06-12 11:57:29  confirmed          1.0\n",
      "3        7 2020-01-04 13:57:59 2021-06-13 12:58:28  confirmed          1.0\n",
      "4        7 2020-01-04 13:57:59 2021-06-14 13:59:27  confirmed          1.0\n",
      "5        2 2020-07-29 23:09:44 2021-01-22 00:00:00  confirmed          1.0\n",
      "6        2 2020-07-29 23:09:44 2021-02-28 23:59:59    timeout          0.0\n",
      "7        6 2020-12-09 10:39:37                 NaT        NaN          NaN\n",
      "   user_id  confirmation_rate\n",
      "0        2                0.5\n",
      "1        3                0.0\n",
      "2        6                0.0\n",
      "3        7                1.0\n"
     ]
    }
   ],
   "source": [
    "# LC 1934 - https://leetcode.com/problems/confirmation-rate/description/?envType=study-plan-v2&envId=top-sql-50\n",
    "\n",
    "\"\"\"\n",
    "T SQL\n",
    "\n",
    "SELECT \n",
    "    s.user_id,\n",
    "    ROUND(\n",
    "        CASE\n",
    "            WHEN COUNT(c.action) = 0 THEN 0\n",
    "            ELSE SUM(CASE WHEN c.action = 'confirmed' THEN 1 ELSE 0 END) * 1.0 / COUNT(c.action)\n",
    "        END \n",
    "    , 2) AS confirmation_rate \n",
    "FROM Signups AS s\n",
    "LEFT JOIN Confirmations AS c\n",
    "ON s.user_id = c.user_id\n",
    "GROUP BY s.user_id\n",
    "\n",
    "\"\"\"\n",
    "\n",
    "\n",
    "data = [[3, '2020-03-21 10:16:13'], [7, '2020-01-04 13:57:59'], [2, '2020-07-29 23:09:44'], [6, '2020-12-09 10:39:37']]\n",
    "signups_df = pd.DataFrame(data, columns=['user_id', 'time_stamp']).astype({'user_id':'Int64', 'time_stamp':'datetime64[ns]'})\n",
    "data = [[3, '2021-01-06 03:30:46', 'timeout'], [3, '2021-07-14 14:00:00', 'timeout'], [7, '2021-06-12 11:57:29', 'confirmed'], [7, '2021-06-13 12:58:28', 'confirmed'], [7, '2021-06-14 13:59:27', 'confirmed'], [2, '2021-01-22 00:00:00', 'confirmed'], [2, '2021-02-28 23:59:59', 'timeout']]\n",
    "confirmations_df = pd.DataFrame(data, columns=['user_id', 'time_stamp', 'action']).astype({'user_id':'Int64', 'time_stamp':'datetime64[ns]', 'action':'object'})\n",
    "\n",
    "\n",
    "def confirmation_rate(signups: pd.DataFrame, confirmations: pd.DataFrame) -> pd.DataFrame:\n",
    "    combined_df = pd.merge(signups, confirmations, how='left', on='user_id')\n",
    "    combined_df['action_code'] = combined_df['action'].map({'confirmed': 1, 'timeout': 0})\n",
    "    combined_df = combined_df.groupby('user_id')['action_code'].mean().round(2).fillna(0).reset_index()\n",
    "    combined_df.columns = ['user_id', 'confirmation_rate']\n",
    "    return combined_df\n",
    "\n",
    "\n",
    "confirmation_rate(signups_df, confirmations_df)"
   ]
  },
  {
   "cell_type": "code",
   "execution_count": null,
   "id": "7b712354",
   "metadata": {},
   "outputs": [],
   "source": []
  },
  {
   "cell_type": "code",
   "execution_count": null,
   "id": "a1e3bca2",
   "metadata": {},
   "outputs": [],
   "source": []
  }
 ],
 "metadata": {
  "kernelspec": {
   "display_name": "py (env)",
   "language": "python",
   "name": "env"
  },
  "language_info": {
   "codemirror_mode": {
    "name": "ipython",
    "version": 3
   },
   "file_extension": ".py",
   "mimetype": "text/x-python",
   "name": "python",
   "nbconvert_exporter": "python",
   "pygments_lexer": "ipython3",
   "version": "3.12.7"
  }
 },
 "nbformat": 4,
 "nbformat_minor": 5
}
